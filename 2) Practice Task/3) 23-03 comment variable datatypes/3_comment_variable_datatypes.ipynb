{
 "cells": [
  {
   "cell_type": "code",
   "execution_count": 2,
   "id": "a79eca75",
   "metadata": {},
   "outputs": [
    {
     "name": "stdout",
     "output_type": "stream",
     "text": [
      "Arjun\n"
     ]
    }
   ],
   "source": [
    "# comment\n",
    "'''\n",
    "variable\n",
    "datatype\n",
    "'''\n",
    "\n",
    "name = \"Arjun\"\n",
    "print(name)"
   ]
  },
  {
   "cell_type": "code",
   "execution_count": 4,
   "id": "ab27ff70",
   "metadata": {},
   "outputs": [
    {
     "name": "stdout",
     "output_type": "stream",
     "text": [
      "Vishal\n"
     ]
    }
   ],
   "source": [
    "name = \"Vishal\"\n",
    "print(name)"
   ]
  },
  {
   "cell_type": "code",
   "execution_count": 7,
   "id": "0ea69115",
   "metadata": {},
   "outputs": [
    {
     "name": "stdout",
     "output_type": "stream",
     "text": [
      "Limbachiya Arjunkumar A.\n"
     ]
    }
   ],
   "source": [
    "# give maltipal variable and values\n",
    "\n",
    "first_name, last_name, surname = \"Arjunkumar\", \"A.\", \"Limbachiya\"\n",
    "print(surname,first_name,last_name)"
   ]
  },
  {
   "cell_type": "code",
   "execution_count": 15,
   "id": "95041ea9",
   "metadata": {},
   "outputs": [
    {
     "name": "stdout",
     "output_type": "stream",
     "text": [
      "shreenath nagar society\n",
      "shreenath nagar society\n",
      "shreenath nagar society\n"
     ]
    }
   ],
   "source": [
    "# give maltipal variable one value\n",
    "\n",
    "arjun = yogesh = \"shreenath nagar society\"\n",
    "print(arjun)\n",
    "print(yogesh)\n",
    "\n",
    "del yogesh\n",
    "\n",
    "print(arjun)"
   ]
  },
  {
   "cell_type": "code",
   "execution_count": 16,
   "id": "695852e6",
   "metadata": {},
   "outputs": [],
   "source": [
    "# variable Constants variable value is not change\n",
    "\n",
    "PAI = 11.24"
   ]
  },
  {
   "cell_type": "code",
   "execution_count": 4,
   "id": "b093dc8e",
   "metadata": {},
   "outputs": [
    {
     "name": "stdout",
     "output_type": "stream",
     "text": [
      "(1+3j)\n",
      "[1, 'Arjun', 2.5, True, False, [1, 'name']]\n",
      "(1, 4, 'Ronak', 2.5, True, 1)\n",
      "{'arjun', 'bhabhr', 54}\n",
      "{'arjun': 'mca', 'ronak': 28, 'bhavin': 10}\n"
     ]
    }
   ],
   "source": [
    "# Datatype\n",
    "\n",
    "dt_1 = 'Arjun' # string\n",
    "dt_2 = 12   # intiger\n",
    "dt_3 = 2.4  # float\n",
    "dt_4 = True # bool\n",
    "dt_5 = False # bool\n",
    "dt_6 = 1 + 3j # complex\n",
    "list_1 = [1, 'name']\n",
    "print(dt_6)\n",
    "\n",
    "# List items are Ordered,Changeable,indexed,Allow Duplicates values\n",
    "dt_7 = [1, 'Arjun', 2.5, True, dt_5, list_1]\n",
    "print(dt_7)\n",
    "\n",
    "\n",
    "# Tuple items are Ordered,Not Changeable,indexed,Allow Duplicates values\n",
    "dt_8 = (1, 4, 'Ronak', 2.5, True, 1)\n",
    "print(dt_8)\n",
    "\n",
    "\n",
    "# Set items are not Ordered,not changeable,not indexing,not allow duplicates values\n",
    "# but you can add or remove\n",
    "dt_9 = {'arjun', 54, 'bhabhr', 'arjun'}\n",
    "print(dt_9)\n",
    "\n",
    "\n",
    "# Dictionary items are ordered,not indexing,keys not allow duplicates values\n",
    "dt_10 = {'arjun' : 'mca', 'ronak' : 10, 'bhavin' : 10, 'ronak' : 28}\n",
    "print(dt_10)"
   ]
  },
  {
   "cell_type": "code",
   "execution_count": null,
   "id": "c1536465",
   "metadata": {},
   "outputs": [],
   "source": []
  }
 ],
 "metadata": {
  "kernelspec": {
   "display_name": "Python 3 (ipykernel)",
   "language": "python",
   "name": "python3"
  },
  "language_info": {
   "codemirror_mode": {
    "name": "ipython",
    "version": 3
   },
   "file_extension": ".py",
   "mimetype": "text/x-python",
   "name": "python",
   "nbconvert_exporter": "python",
   "pygments_lexer": "ipython3",
   "version": "3.8.10"
  }
 },
 "nbformat": 4,
 "nbformat_minor": 5
}
