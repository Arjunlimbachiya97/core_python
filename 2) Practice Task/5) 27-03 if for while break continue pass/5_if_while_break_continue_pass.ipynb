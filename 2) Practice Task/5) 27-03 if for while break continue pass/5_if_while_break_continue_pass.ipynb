{
 "cells": [
  {
   "cell_type": "code",
   "execution_count": 6,
   "id": "ddbdf2ac",
   "metadata": {},
   "outputs": [
    {
     "name": "stdout",
     "output_type": "stream",
     "text": [
      "Enter the number = 12\n",
      "This is even number\n"
     ]
    }
   ],
   "source": [
    "number = int(input(\"Enter the number = \"))\n",
    "\n",
    "if number % 2 == 1:\n",
    "    print(\"This is odd number\")\n",
    "else:\n",
    "    print(\"This is even number\")"
   ]
  },
  {
   "cell_type": "code",
   "execution_count": 3,
   "id": "7dedadd2",
   "metadata": {},
   "outputs": [
    {
     "name": "stdout",
     "output_type": "stream",
     "text": [
      "Enter the number = %\n",
      "This value is special cherecter\n"
     ]
    }
   ],
   "source": [
    "value = input(\"Enter the number = \")\n",
    "\n",
    "\n",
    "if value.isdigit() == True:\n",
    "    value = int(value)\n",
    "    if (value >=0 and value <= 9):\n",
    "        print(\"This value is number\")\n",
    "\n",
    "elif value.isdigit() == False:\n",
    "    if (value >= 'a' and value <= 'z') or (value >= 'A' and value <= 'Z'):\n",
    "        print(\"This values is charecter\")\n",
    "    else:\n",
    "        print(\"This value is special cherecter\")"
   ]
  },
  {
   "cell_type": "code",
   "execution_count": 44,
   "id": "59210909",
   "metadata": {},
   "outputs": [
    {
     "name": "stdout",
     "output_type": "stream",
     "text": [
      "1\n",
      "2\n",
      "3\n",
      "4\n",
      "5\n",
      "6\n",
      "7\n",
      "8\n",
      "9\n",
      "10\n"
     ]
    }
   ],
   "source": [
    "# Print First 10 natural numbers using while loop\n",
    "\n",
    "digit = 1\n",
    "while digit <= 10:\n",
    "    print(digit)\n",
    "    digit += 1"
   ]
  },
  {
   "cell_type": "code",
   "execution_count": 46,
   "id": "21adb6da",
   "metadata": {},
   "outputs": [
    {
     "name": "stdout",
     "output_type": "stream",
     "text": [
      "1\n",
      "12\n",
      "123\n",
      "1234\n",
      "12345\n",
      "123456\n",
      "1234567\n",
      "12345678\n",
      "123456789\n"
     ]
    }
   ],
   "source": [
    "# Print the following pattern \n",
    "\n",
    "for i in range(1,10):\n",
    "    for j in range(1,i+1):\n",
    "        print(j,end = '')\n",
    "    print('')"
   ]
  },
  {
   "cell_type": "code",
   "execution_count": 54,
   "id": "e26d54d5",
   "metadata": {},
   "outputs": [
    {
     "name": "stdout",
     "output_type": "stream",
     "text": [
      "Enter the number : 3\n",
      "sum of 1 to 3 =  6\n"
     ]
    }
   ],
   "source": [
    "# Calculate the sum of all numbers from 1 to a given number\n",
    "\n",
    "number_1 = int(input('Enter the number : '))\n",
    "sum = 0\n",
    "for i in range(1,number_1+1):\n",
    "    sum += i\n",
    "print(f'sum of 1 to {number_1} = ',sum)"
   ]
  },
  {
   "cell_type": "code",
   "execution_count": 60,
   "id": "191887e6",
   "metadata": {},
   "outputs": [
    {
     "name": "stdout",
     "output_type": "stream",
     "text": [
      "12, 75, 150, 180, 145, 525, 50, "
     ]
    }
   ],
   "source": [
    "numbers = [12, 75, 150, 180, 145, 525, 50]\n",
    "\n",
    "for i in numbers:\n",
    "    print(i, end=\", \")"
   ]
  },
  {
   "cell_type": "code",
   "execution_count": 65,
   "id": "9eaaf62d",
   "metadata": {},
   "outputs": [
    {
     "name": "stdout",
     "output_type": "stream",
     "text": [
      "23456\n",
      "2345\n",
      "234\n",
      "23\n",
      "2\n",
      "5\n"
     ]
    }
   ],
   "source": [
    " a = 23456\n",
    "    \n",
    "count = 0\n",
    "\n",
    "while a !=0:\n",
    "    print(a)\n",
    "    a //= 10\n",
    "    count += 1\n",
    "print(count)"
   ]
  },
  {
   "cell_type": "code",
   "execution_count": 79,
   "id": "1317e548",
   "metadata": {},
   "outputs": [
    {
     "name": "stdout",
     "output_type": "stream",
     "text": [
      "10 9 8 7 6 5 4 3 2 1  \n",
      "9 8 7 6 5 4 3 2 1  \n",
      "8 7 6 5 4 3 2 1  \n",
      "7 6 5 4 3 2 1  \n",
      "6 5 4 3 2 1  \n",
      "5 4 3 2 1  \n",
      "4 3 2 1  \n",
      "3 2 1  \n",
      "2 1  \n",
      "1  \n"
     ]
    }
   ],
   "source": [
    "for q in range(10,0,-1):\n",
    "    for r in range(q,0,-1):\n",
    "        print(r,end=\" \")\n",
    "    print(\" \")"
   ]
  },
  {
   "cell_type": "code",
   "execution_count": 3,
   "id": "a9612444",
   "metadata": {},
   "outputs": [
    {
     "name": "stdout",
     "output_type": "stream",
     "text": [
      "*5432\n",
      "**5432\n",
      "***5432\n",
      "****5432\n",
      "12345\n",
      "1234\n",
      "123\n",
      "12\n",
      "1\n"
     ]
    }
   ],
   "source": [
    "for i in range(1,5):\n",
    "    for j in range(1,i+1):\n",
    "        print(\"*\",end='')\n",
    "    for k in range(5,1,-1):\n",
    "        print(k,end='')\n",
    "    print('')\n",
    "for i in range(5,0,-1):\n",
    "    for j in range(1,i+1):\n",
    "        print(j,end='')\n",
    "    print('')\n",
    "      "
   ]
  }
 ],
 "metadata": {
  "kernelspec": {
   "display_name": "Python 3 (ipykernel)",
   "language": "python",
   "name": "python3"
  },
  "language_info": {
   "codemirror_mode": {
    "name": "ipython",
    "version": 3
   },
   "file_extension": ".py",
   "mimetype": "text/x-python",
   "name": "python",
   "nbconvert_exporter": "python",
   "pygments_lexer": "ipython3",
   "version": "3.8.10"
  }
 },
 "nbformat": 4,
 "nbformat_minor": 5
}
