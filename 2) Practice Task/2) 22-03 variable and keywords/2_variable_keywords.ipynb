{
 "cells": [
  {
   "cell_type": "code",
   "execution_count": 2,
   "id": "b4a2d59b",
   "metadata": {},
   "outputs": [
    {
     "name": "stdout",
     "output_type": "stream",
     "text": [
      "Arjun\n",
      "Arjun\n"
     ]
    }
   ],
   "source": [
    "# Identifiers/Variable and keywords\n",
    "\n",
    "\n",
    "#Identifiers/Variable\n",
    "# case sensitive\n",
    "name = 'Arjun'\n",
    "Name = 'Arjun'\n",
    "\n",
    "print(name)\n",
    "print(Name)"
   ]
  },
  {
   "cell_type": "code",
   "execution_count": 4,
   "id": "be69290e",
   "metadata": {},
   "outputs": [
    {
     "name": "stdout",
     "output_type": "stream",
     "text": [
      "Vishal\n",
      "3501\n",
      "1234567898\n",
      "9876543218\n"
     ]
    }
   ],
   "source": [
    "# contain (underscore _ , A-Z, a-z, 0-9) not start with number\n",
    "\n",
    "_name = 'Vishal'\n",
    "Empro_number = '3501'\n",
    "mobile_1 = 1234567898 \n",
    "mobile_2 = 9876543218\n",
    "\n",
    "print(_name)\n",
    "print(Empro_number)\n",
    "print(mobile_1)\n",
    "print(mobile_2)"
   ]
  },
  {
   "cell_type": "code",
   "execution_count": 6,
   "id": "4e431f89",
   "metadata": {},
   "outputs": [
    {
     "ename": "SyntaxError",
     "evalue": "invalid decimal literal (4247293928.py, line 3)",
     "output_type": "error",
     "traceback": [
      "\u001b[0;36m  Cell \u001b[0;32mIn[6], line 3\u001b[0;36m\u001b[0m\n\u001b[0;31m    1_name = 'Ronak'\u001b[0m\n\u001b[0m     ^\u001b[0m\n\u001b[0;31mSyntaxError\u001b[0m\u001b[0;31m:\u001b[0m invalid decimal literal\n"
     ]
    }
   ],
   "source": [
    "# give SyntaxError because name start with number\n",
    "\n",
    "1_name = 'Ronak'\n",
    "print(1_name)"
   ]
  },
  {
   "cell_type": "code",
   "execution_count": 10,
   "id": "339c7db8",
   "metadata": {},
   "outputs": [
    {
     "name": "stdout",
     "output_type": "stream",
     "text": [
      "['False', 'None', 'True', 'and', 'as', 'assert', 'async', 'await', 'break', 'class', 'continue', 'def', 'del', 'elif', 'else', 'except', 'finally', 'for', 'from', 'global', 'if', 'import', 'in', 'is', 'lambda', 'nonlocal', 'not', 'or', 'pass', 'raise', 'return', 'try', 'while', 'with', 'yield']\n"
     ]
    }
   ],
   "source": [
    "# keywords\n",
    "\n",
    "import keyword as k\n",
    "print(k.kwlist)"
   ]
  },
  {
   "cell_type": "code",
   "execution_count": 23,
   "id": "ff0fb51c",
   "metadata": {},
   "outputs": [],
   "source": [
    "# assert \n",
    "# if  given condition if false give AssertionError and you can give costom message.\n",
    "\n",
    "#a = 4\n",
    "#assert a > 5, 'value is small'"
   ]
  },
  {
   "cell_type": "code",
   "execution_count": 30,
   "id": "ca414a61",
   "metadata": {},
   "outputs": [
    {
     "name": "stdout",
     "output_type": "stream",
     "text": [
      "Hello\n",
      "world\n"
     ]
    }
   ],
   "source": [
    "# async, await \n",
    "# async for difine this is async function\n",
    "# await sleep for given time\n",
    "\n",
    "import asyncio\n",
    "\n",
    "async def new_():\n",
    "    print('Hello')\n",
    "    await asyncio.sleep(3)\n",
    "    print('world')\n",
    "\n",
    "\n",
    "await new_()"
   ]
  },
  {
   "cell_type": "code",
   "execution_count": 34,
   "id": "d2a71057",
   "metadata": {},
   "outputs": [
    {
     "name": "stdout",
     "output_type": "stream",
     "text": [
      "2\n"
     ]
    }
   ],
   "source": [
    "# raise for raise error by given condition is false\n",
    "\n",
    "x = 2\n",
    "\n",
    "if x < 1:\n",
    "  raise Exception(\"Sorry, no numbers below zero\")\n",
    "\n",
    "print(x)"
   ]
  },
  {
   "cell_type": "code",
   "execution_count": 36,
   "id": "f5d1616e",
   "metadata": {},
   "outputs": [
    {
     "name": "stdout",
     "output_type": "stream",
     "text": [
      "Arjun\n"
     ]
    }
   ],
   "source": [
    "# nonlocal for change global variable value in nested function\n",
    "\n",
    "def myfunc1():\n",
    "  x = \"John\"\n",
    "  def myfunc2():\n",
    "    nonlocal x \n",
    "    x = 'Arjun'\n",
    "  myfunc2() \n",
    "  return x\n",
    "\n",
    "print(myfunc1())\n"
   ]
  },
  {
   "cell_type": "code",
   "execution_count": 45,
   "id": "1dfe3597",
   "metadata": {},
   "outputs": [
    {
     "data": {
      "text/plain": [
       "1"
      ]
     },
     "execution_count": 45,
     "metadata": {},
     "output_type": "execute_result"
    }
   ],
   "source": [
    "# yield loop run one buy one with next(yield variable name) word\n",
    "\n",
    "g = (2**x for x in range(100))\n",
    "next(g)"
   ]
  }
 ],
 "metadata": {
  "kernelspec": {
   "display_name": "Python 3 (ipykernel)",
   "language": "python",
   "name": "python3"
  },
  "language_info": {
   "codemirror_mode": {
    "name": "ipython",
    "version": 3
   },
   "file_extension": ".py",
   "mimetype": "text/x-python",
   "name": "python",
   "nbconvert_exporter": "python",
   "pygments_lexer": "ipython3",
   "version": "3.8.10"
  }
 },
 "nbformat": 4,
 "nbformat_minor": 5
}
