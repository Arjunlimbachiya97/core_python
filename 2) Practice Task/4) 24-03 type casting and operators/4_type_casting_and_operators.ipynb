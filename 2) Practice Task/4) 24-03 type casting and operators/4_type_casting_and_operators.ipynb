{
 "cells": [
  {
   "cell_type": "code",
   "execution_count": 8,
   "id": "a1eba627",
   "metadata": {},
   "outputs": [
    {
     "name": "stdout",
     "output_type": "stream",
     "text": [
      "Implicit Type Conversion\n",
      "40.730000000000004\n",
      "Explicit Type Conversion\n",
      "<class 'int'>\n"
     ]
    }
   ],
   "source": [
    "\"\"\"\n",
    "1) Type Conversion\n",
    "2) I/O and import\n",
    "3) Operators\n",
    "4) Namespace\n",
    "\"\"\"\n",
    "\n",
    "# 1) Type Conversion\n",
    "\n",
    "# Implicit Type Conversion\n",
    "# convert datatype autometicaly lower data type to the higher data type\n",
    "number_1 = 20\n",
    "number_2 = 20.73\n",
    "\n",
    "sum = number_1 + number_2\n",
    "print(sum)\n",
    "\n",
    "# Explicit Type Conversion\n",
    "mobile = \"6354020482\"\n",
    "mobile = int(mobile)\n",
    "print(type(mobile))"
   ]
  },
  {
   "cell_type": "code",
   "execution_count": 18,
   "id": "33424bef",
   "metadata": {},
   "outputs": [
    {
     "name": "stdout",
     "output_type": "stream",
     "text": [
      "this is value of   12 hyperlink\n"
     ]
    }
   ],
   "source": [
    "# print function parameters\n",
    "value = 12\n",
    "print(\"this is value of \",value, sep = '  ')\n"
   ]
  },
  {
   "cell_type": "code",
   "execution_count": 20,
   "id": "f9d62613",
   "metadata": {},
   "outputs": [
    {
     "name": "stdout",
     "output_type": "stream",
     "text": [
      "Hello hyperlink\n"
     ]
    }
   ],
   "source": [
    "print('Hello', end = ' ')\n",
    "print('hyperlink')"
   ]
  },
  {
   "cell_type": "code",
   "execution_count": 28,
   "id": "ab8b7755",
   "metadata": {},
   "outputs": [
    {
     "name": "stdout",
     "output_type": "stream",
     "text": [
      "13\n",
      "7\n",
      "30\n",
      "1\n",
      "3\n",
      "1000\n"
     ]
    }
   ],
   "source": [
    "# Operators\n",
    "\n",
    "# Arithmetic Operators\n",
    "a = 10\n",
    "b = 3\n",
    "\n",
    "print(a+b)\n",
    "print(a-b)\n",
    "print(a*b)\n",
    "print(a%b)\n",
    "print(a//b)\n",
    "print(a**b)\n"
   ]
  },
  {
   "cell_type": "code",
   "execution_count": 39,
   "id": "b77070ec",
   "metadata": {},
   "outputs": [
    {
     "name": "stdout",
     "output_type": "stream",
     "text": [
      "4\n",
      "4\n",
      "15\n",
      "4\n",
      "44\n",
      "4.0\n",
      "4.0\n",
      "4194304.0\n"
     ]
    }
   ],
   "source": [
    "# Assignment Operators\n",
    "\n",
    "c = 50\n",
    "a = 11\n",
    "c //= a\n",
    "print(c)\n",
    "print(c)\n",
    "c += a\n",
    "print(c)\n",
    "c -= a\n",
    "print(c)\n",
    "c *= a\n",
    "print(c)\n",
    "c /= a\n",
    "print(c)\n",
    "c %= a\n",
    "print(c)\n",
    "c **= a\n",
    "print(c)"
   ]
  },
  {
   "cell_type": "code",
   "execution_count": 41,
   "id": "0636373b",
   "metadata": {},
   "outputs": [
    {
     "name": "stdout",
     "output_type": "stream",
     "text": [
      "False\n",
      "False\n",
      "False\n",
      "True\n",
      "True\n",
      "True\n"
     ]
    }
   ],
   "source": [
    "# Comparison Operators\n",
    "\n",
    "d = 14\n",
    "e = 39\n",
    "\n",
    "print(d == e)\n",
    "print(d > e)\n",
    "print(d >= e)\n",
    "print(d < e)\n",
    "print(d <= e)\n",
    "print(d != e)"
   ]
  },
  {
   "cell_type": "code",
   "execution_count": 49,
   "id": "cd78967b",
   "metadata": {},
   "outputs": [
    {
     "name": "stdout",
     "output_type": "stream",
     "text": [
      "True\n",
      "True\n",
      "False\n"
     ]
    }
   ],
   "source": [
    "# Logical Operators\n",
    "f = 10 \n",
    "g = 20\n",
    "\n",
    "print((f < g) and (f == 10))\n",
    "print((f < g) or (f == 11))\n",
    "print(not(f < g))"
   ]
  },
  {
   "cell_type": "code",
   "execution_count": 50,
   "id": "fad925fa",
   "metadata": {},
   "outputs": [],
   "source": [
    "# Bitwise operators"
   ]
  },
  {
   "cell_type": "code",
   "execution_count": 54,
   "id": "7add1a2b",
   "metadata": {},
   "outputs": [
    {
     "name": "stdout",
     "output_type": "stream",
     "text": [
      "False\n",
      "True\n"
     ]
    }
   ],
   "source": [
    "# Special operators\n",
    "\n",
    "list_1 = [1, 23, 4, 5, 6, 7, \"Arjun\"]\n",
    "list_2 = [1, 23, 4, 5, 6, 7, \"Arjun\"]\n",
    "\n",
    "# check value memory location\n",
    "print(list_1 is list_2)\n",
    "print(list_1 is not list_2)"
   ]
  },
  {
   "cell_type": "code",
   "execution_count": 58,
   "id": "730863e9",
   "metadata": {},
   "outputs": [
    {
     "name": "stdout",
     "output_type": "stream",
     "text": [
      "True\n",
      "True\n"
     ]
    }
   ],
   "source": [
    "# Membership operators\n",
    "\n",
    "list_3 = ['Bhabhar', 1, 23, 4, 5, 6, 7, \"Arjun\"]\n",
    "\n",
    "print('Bhabhar' in list_3)\n",
    "print('sdkjb' not in list_3)"
   ]
  },
  {
   "cell_type": "code",
   "execution_count": 59,
   "id": "35530f39",
   "metadata": {},
   "outputs": [
    {
     "name": "stdout",
     "output_type": "stream",
     "text": [
      "10\n",
      "20\n",
      "30\n"
     ]
    }
   ],
   "source": [
    "# Namespace\n",
    "\n",
    "# global_var is in the global namespace\n",
    "global_var = 10\n",
    "\n",
    "def outer_function():\n",
    "    #  outer_var is in the local namespace \n",
    "    outer_var = 20\n",
    "\n",
    "    def inner_function():\n",
    "        #  inner_var is in the nested local namespace \n",
    "        inner_var = 30\n",
    "\n",
    "        print(inner_var)\n",
    "\n",
    "    print(outer_var)\n",
    "\n",
    "    inner_function()\n",
    "\n",
    "# print the value of the global variable\n",
    "print(global_var)\n",
    "\n",
    "# call the outer function and print local and nested local variables\n",
    "outer_function()"
   ]
  }
 ],
 "metadata": {
  "kernelspec": {
   "display_name": "Python 3 (ipykernel)",
   "language": "python",
   "name": "python3"
  },
  "language_info": {
   "codemirror_mode": {
    "name": "ipython",
    "version": 3
   },
   "file_extension": ".py",
   "mimetype": "text/x-python",
   "name": "python",
   "nbconvert_exporter": "python",
   "pygments_lexer": "ipython3",
   "version": "3.8.10"
  }
 },
 "nbformat": 4,
 "nbformat_minor": 5
}
